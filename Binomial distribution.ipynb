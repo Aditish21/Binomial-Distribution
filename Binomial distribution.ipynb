{
  "nbformat": 4,
  "nbformat_minor": 0,
  "metadata": {
    "colab": {
      "provenance": [],
      "authorship_tag": "ABX9TyPpeTRl4YCMFa3x0iWzS7+W",
      "include_colab_link": true
    },
    "kernelspec": {
      "name": "python3",
      "display_name": "Python 3"
    },
    "language_info": {
      "name": "python"
    }
  },
  "cells": [
    {
      "cell_type": "markdown",
      "metadata": {
        "id": "view-in-github",
        "colab_type": "text"
      },
      "source": [
        "<a href=\"https://colab.research.google.com/github/Aditish21/Binomial-Distribution/blob/main/Binomial%20distribution.ipynb\" target=\"_parent\"><img src=\"https://colab.research.google.com/assets/colab-badge.svg\" alt=\"Open In Colab\"/></a>"
      ]
    },
    {
      "cell_type": "code",
      "execution_count": 1,
      "metadata": {
        "id": "Pj7kmPFTrXnA"
      },
      "outputs": [],
      "source": [
        "import numpy as np"
      ]
    },
    {
      "cell_type": "code",
      "source": [
        "samples=np.random.binomial(n=10,p=0.5,size=10000)\n",
        "prob_estimate=np.mean(samples==6)\n",
        "print(prob_estimate)"
      ],
      "metadata": {
        "id": "XUvgl8gkrnCQ",
        "outputId": "99fe531a-82fa-4bcb-9545-88f64b52f652",
        "colab": {
          "base_uri": "https://localhost:8080/"
        }
      },
      "execution_count": 2,
      "outputs": [
        {
          "output_type": "stream",
          "name": "stdout",
          "text": [
            "0.2025\n"
          ]
        }
      ]
    }
  ]
}